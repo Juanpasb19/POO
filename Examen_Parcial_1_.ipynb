{
  "nbformat": 4,
  "nbformat_minor": 0,
  "metadata": {
    "colab": {
      "provenance": []
    },
    "kernelspec": {
      "name": "python3",
      "display_name": "Python 3"
    },
    "language_info": {
      "name": "python"
    }
  },
  "cells": [
    {
      "cell_type": "code",
      "source": [
        "class Formula(): #clase madre\n",
        "\n",
        "    def __init__(self): #init es la función que se necesita para empezar a definir\n",
        "     print(\"Examen\")\n",
        "\n",
        "    def Tarea1(self):\n",
        "      print(\"Encontrar el area y perimetro de un rectangulo\")\n",
        "\n",
        "    def Tare2(self):\n",
        "      print(\"Recibir 20 elementos y acomodarlo en una matriz\")\n",
        "\n",
        "    def Tarea3(self):\n",
        "      print(\"Crear matriz 4x4 y sacar determinante\")\n",
        "\n",
        ""
      ],
      "metadata": {
        "id": "BH7rkGwarL-O"
      },
      "execution_count": 64,
      "outputs": []
    },
    {
      "cell_type": "code",
      "source": [
        "class Tarea1(Formula): #Esta es la primera herencia\n",
        "\n",
        "  def __init__(self): #init es la función que se necesita para empezar a definir\n",
        "    print(\"Creamos la primera clase heredada\")\n",
        "\n",
        "#Con esta formula se calculara el area de un triangulo equilatero\n",
        "  def Area(b,h):\n",
        "    a=h*l/2   # La formula dice que se va a multiplicar la base por altura y luego entre dos\n",
        "    return a\n",
        "\n",
        "#Con esta formula calculara el perimetro de un triangulo equilatero\n",
        "  def Perimetro(b):\n",
        "   p=(b+b+b)   #La formula dice que se van a sumar los tres lados\n",
        "   return p\n",
        "\n",
        ""
      ],
      "metadata": {
        "id": "AUJCDZAVusoR"
      },
      "execution_count": 75,
      "outputs": []
    },
    {
      "cell_type": "code",
      "source": [
        "Area(7,30)"
      ],
      "metadata": {
        "colab": {
          "base_uri": "https://localhost:8080/"
        },
        "id": "ANt0YvaOsAs-",
        "outputId": "51bd2a18-9e9a-4c86-e611-5d4e07c447fe"
      },
      "execution_count": 76,
      "outputs": [
        {
          "output_type": "execute_result",
          "data": {
            "text/plain": [
              "105.0"
            ]
          },
          "metadata": {},
          "execution_count": 76
        }
      ]
    },
    {
      "cell_type": "code",
      "source": [
        "Perimetro(8)\n"
      ],
      "metadata": {
        "colab": {
          "base_uri": "https://localhost:8080/"
        },
        "id": "CZttpK_qsGm2",
        "outputId": "0fd8aaf1-b7b9-41ce-d1ec-a512640418e5"
      },
      "execution_count": 78,
      "outputs": [
        {
          "output_type": "execute_result",
          "data": {
            "text/plain": [
              "24"
            ]
          },
          "metadata": {},
          "execution_count": 78
        }
      ]
    },
    {
      "cell_type": "code",
      "source": [
        "class Tarea2(Formula): #Esta es la segunda herencia\n",
        "    def __init__(self, elementos_usuario): #init es la función que se necesita para empezar a definir\n",
        "\n",
        "        print(\"Creamos la segunda clase heredada\")\n",
        "        self.elementos_usuario = elementos_usuario\n",
        "\n",
        "    def imprimir_matriz(self):\n",
        "        if len(self.elementos_usuario) != 16: #lo que hace esta linea para determinar el numero de elementos que usaremos\n",
        "            print(\"Esta matriz debe constar de 16 elementos\")\n",
        "            return\n",
        "\n",
        "        matriz = [self.elementos_usuario[i:i + 4] for i in range(0, 16, 4)] # para que el rango de la matriz este limitado hasta 16 elementos\n",
        "\n",
        "        for fila in matriz:\n",
        "            print(fila)\n",
        "\n",
        "elementos_usuario = []\n",
        "for _ in range(16):\n",
        "    elemento = float(input(\"Ingrese un elemento {_ + 1}:\")) #Esto es lo que se le pedira al usuario que coloque\n",
        "    elementos_usuario.append(elemento)\n",
        "\n",
        "matriz_objeto = Tarea2(elementos_usuario)\n",
        "matriz_objeto.imprimir_matriz() #para que se cree la matriz"
      ],
      "metadata": {
        "colab": {
          "base_uri": "https://localhost:8080/"
        },
        "id": "DCXaJK9D6cB4",
        "outputId": "5b03cf8d-53c1-4aab-b95f-6e1e0d65ea65"
      },
      "execution_count": 104,
      "outputs": [
        {
          "output_type": "stream",
          "name": "stdout",
          "text": [
            "Ingrese un elemento {_ + 1}:1\n",
            "Ingrese un elemento {_ + 1}:2\n",
            "Ingrese un elemento {_ + 1}:3\n",
            "Ingrese un elemento {_ + 1}:4\n",
            "Ingrese un elemento {_ + 1}:5\n",
            "Ingrese un elemento {_ + 1}:6\n",
            "Ingrese un elemento {_ + 1}:7\n",
            "Ingrese un elemento {_ + 1}:8\n",
            "Ingrese un elemento {_ + 1}:9\n",
            "Ingrese un elemento {_ + 1}:10\n",
            "Ingrese un elemento {_ + 1}:11\n",
            "Ingrese un elemento {_ + 1}:12\n",
            "Ingrese un elemento {_ + 1}:13\n",
            "Ingrese un elemento {_ + 1}:14\n",
            "Ingrese un elemento {_ + 1}:15\n",
            "Ingrese un elemento {_ + 1}:16\n",
            "Creamos la segunda clase heredada\n",
            "[1.0, 2.0, 3.0, 4.0]\n",
            "[5.0, 6.0, 7.0, 8.0]\n",
            "[9.0, 10.0, 11.0, 12.0]\n",
            "[13.0, 14.0, 15.0, 16.0]\n"
          ]
        }
      ]
    },
    {
      "cell_type": "code",
      "source": [
        "class Tarea3(Formula):\n",
        "    def __init__(self): #init es la función que se necesita para empezar a definir\n",
        "     print(\"Creamos la primera clase heredada\")\n",
        "\n",
        "import numpy as np #Para traer todos los datos de Python matematicamente hablando\n",
        "\n",
        "def determinante(self,matriz):\n",
        "\n",
        "   (\"Calcula el determinante de la matriz\")\n",
        "\n",
        "   return np.linalg.det(matriz) # Es el codigo directo para sacar la determinante de la matriz\n",
        "\n",
        "\n",
        "print(\"Determinante de la matriz 4x4 anterior:\") #Para que el programa enseñe la matriz\n",
        "print(determinante)\n",
        "\n",
        "\n",
        "\n",
        "\n"
      ],
      "metadata": {
        "colab": {
          "base_uri": "https://localhost:8080/"
        },
        "id": "aOPrZsbR2vUO",
        "outputId": "c9839947-a84e-4cf6-def8-9f83c7856b78"
      },
      "execution_count": 113,
      "outputs": [
        {
          "output_type": "stream",
          "name": "stdout",
          "text": [
            "Determinante de la matriz 4x4 anterior:\n",
            "<function determinante at 0x7fa7b1a00820>\n"
          ]
        }
      ]
    }
  ]
}