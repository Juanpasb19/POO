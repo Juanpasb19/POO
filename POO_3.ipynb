{
  "nbformat": 4,
  "nbformat_minor": 0,
  "metadata": {
    "colab": {
      "provenance": []
    },
    "kernelspec": {
      "name": "python3",
      "display_name": "Python 3"
    },
    "language_info": {
      "name": "python"
    }
  },
  "cells": [
    {
      "cell_type": "code",
      "execution_count": 3,
      "metadata": {
        "id": "qziLZu0tWFOT"
      },
      "outputs": [],
      "source": [
        "def Area(b,l):\n",
        "    a=b*l/2\n",
        "    return a"
      ]
    },
    {
      "cell_type": "code",
      "source": [
        "def Perimetro(b,l):\n",
        " p=(b*2)+l\n",
        " return p"
      ],
      "metadata": {
        "id": "1M5qgT-RaDuZ"
      },
      "execution_count": 6,
      "outputs": []
    },
    {
      "cell_type": "code",
      "source": [
        "Perimetro(2,8)"
      ],
      "metadata": {
        "colab": {
          "base_uri": "https://localhost:8080/"
        },
        "id": "TtKXCRYXan9Q",
        "outputId": "19adffd2-6393-49fb-ffc3-c1a5b7f27e06"
      },
      "execution_count": 7,
      "outputs": [
        {
          "output_type": "execute_result",
          "data": {
            "text/plain": [
              "12"
            ]
          },
          "metadata": {},
          "execution_count": 7
        }
      ]
    },
    {
      "cell_type": "code",
      "source": [
        "def numpar(x):\n",
        "  num=x%2\n",
        "  return num"
      ],
      "metadata": {
        "id": "2Qy_7pTZck-Q"
      },
      "execution_count": 9,
      "outputs": []
    },
    {
      "cell_type": "code",
      "source": [
        "numpar(9)"
      ],
      "metadata": {
        "colab": {
          "base_uri": "https://localhost:8080/"
        },
        "id": "WkYIP0X6c4qg",
        "outputId": "6419a1c7-81a2-444c-818f-4e08f38f0991"
      },
      "execution_count": 13,
      "outputs": [
        {
          "output_type": "execute_result",
          "data": {
            "text/plain": [
              "1"
            ]
          },
          "metadata": {},
          "execution_count": 13
        }
      ]
    },
    {
      "cell_type": "code",
      "source": [
        "x=455776\n",
        "\n",
        "if numpar(x)==0:\n",
        "      print(\"par\")\n",
        "else:\n",
        "      print(\"impar\")"
      ],
      "metadata": {
        "colab": {
          "base_uri": "https://localhost:8080/"
        },
        "id": "N4sxLbRLnzv5",
        "outputId": "ca5a58b7-6644-440d-8302-5d7045150d99"
      },
      "execution_count": 19,
      "outputs": [
        {
          "output_type": "stream",
          "name": "stdout",
          "text": [
            "par\n"
          ]
        }
      ]
    },
    {
      "cell_type": "code",
      "source": [
        "#Se le pedira al usuario qyue ingrese cualquier numero\n",
        "n=int(input(\"Ingresa:\"))\n",
        "\n",
        "#Se separa el número que escogio el usuario\n",
        "L=[i for i in range (1,n) if n%i==0]\n",
        "L"
      ],
      "metadata": {
        "colab": {
          "base_uri": "https://localhost:8080/"
        },
        "id": "opsDCpt-o5PC",
        "outputId": "729cf8d3-f667-4298-d4d9-6f4d030048dc"
      },
      "execution_count": 20,
      "outputs": [
        {
          "name": "stdout",
          "output_type": "stream",
          "text": [
            "Ingresa:8\n"
          ]
        },
        {
          "output_type": "execute_result",
          "data": {
            "text/plain": [
              "[1, 2, 4]"
            ]
          },
          "metadata": {},
          "execution_count": 20
        }
      ]
    },
    {
      "cell_type": "code",
      "source": [
        "#Despues de sumar los números, te dice si el número es perfecto o no\n",
        "if(sum(L) ==n):\n",
        "  print(\"Es perfecto\")\n",
        "else:\n",
        "  print(\"No es perfecto\")"
      ],
      "metadata": {
        "colab": {
          "base_uri": "https://localhost:8080/"
        },
        "id": "z77Sm12-plM6",
        "outputId": "b795d372-8a74-47b8-9fb8-260be9323f31"
      },
      "execution_count": 21,
      "outputs": [
        {
          "output_type": "stream",
          "name": "stdout",
          "text": [
            "No es perfecto\n"
          ]
        }
      ]
    }
  ]
}