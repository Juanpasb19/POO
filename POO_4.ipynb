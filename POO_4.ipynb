{
  "nbformat": 4,
  "nbformat_minor": 0,
  "metadata": {
    "colab": {
      "provenance": []
    },
    "kernelspec": {
      "name": "python3",
      "display_name": "Python 3"
    },
    "language_info": {
      "name": "python"
    }
  },
  "cells": [
    {
      "cell_type": "code",
      "source": [
        "class Mascota(): #clase madre\n",
        "\n",
        "    def __init__(self): #init es la función que se necesita para empezar a definir\n",
        "     print(\"Creamos una clase madre\")\n",
        "\n",
        "    def adivina(self): #adivina es un poliformismo\n",
        "      print(\"Hola, soy un perro\")\n",
        "\n",
        "    def hablar(self):\n",
        "      print(\"Ladro\")\n",
        "\n",
        "\n",
        "\n",
        "\n"
      ],
      "metadata": {
        "id": "wRfnf8asdqyl"
      },
      "execution_count": 37,
      "outputs": []
    },
    {
      "cell_type": "code",
      "source": [
        "mascota=Mascota()"
      ],
      "metadata": {
        "colab": {
          "base_uri": "https://localhost:8080/"
        },
        "id": "4_Ue0Nogf-sJ",
        "outputId": "c34b7f6a-71b2-4932-95b5-a9c9669b01b7"
      },
      "execution_count": 36,
      "outputs": [
        {
          "output_type": "stream",
          "name": "stdout",
          "text": [
            "Creamos una clase madre\n"
          ]
        }
      ]
    },
    {
      "cell_type": "code",
      "source": [
        "mascota.hablar()"
      ],
      "metadata": {
        "colab": {
          "base_uri": "https://localhost:8080/"
        },
        "id": "UXUhLprvgJdw",
        "outputId": "a03b9585-b727-4d3d-b543-14a2b8ba7fd9"
      },
      "execution_count": 34,
      "outputs": [
        {
          "output_type": "stream",
          "name": "stdout",
          "text": [
            "Ladro\n"
          ]
        }
      ]
    },
    {
      "cell_type": "markdown",
      "source": [
        "# Crear una herencia"
      ],
      "metadata": {
        "id": "4F1wslgegqG3"
      }
    },
    {
      "cell_type": "code",
      "source": [
        "class Perro(Mascota):\n",
        "\n",
        "  def __init__(self):\n",
        "    Mascota. __init__(self)\n",
        "    print(\"Creamos una clase heredada\")\n",
        "\n",
        "  def nombre(self):\n",
        "    print(\"Luna\")\n",
        "\n",
        "  def adivina(self):\n",
        "    print(\"Golden\")\n",
        "\n",
        "  def idioma(self):\n",
        "    print(\"WUAF\")"
      ],
      "metadata": {
        "id": "pftDY2YbgsMw"
      },
      "execution_count": 65,
      "outputs": []
    },
    {
      "cell_type": "code",
      "source": [
        "perro=Perro() #Llamamos a la clase heredada"
      ],
      "metadata": {
        "colab": {
          "base_uri": "https://localhost:8080/"
        },
        "id": "9q9K_KhLiMYE",
        "outputId": "2a7cdbd4-51aa-4db9-aaa9-f9160dd717ea"
      },
      "execution_count": 66,
      "outputs": [
        {
          "output_type": "stream",
          "name": "stdout",
          "text": [
            "Creamos una clase madre\n",
            "Creamos una clase heredada\n"
          ]
        }
      ]
    },
    {
      "cell_type": "code",
      "source": [
        "perro.adivina()"
      ],
      "metadata": {
        "colab": {
          "base_uri": "https://localhost:8080/"
        },
        "id": "G4KhQTKMjpZ7",
        "outputId": "23b1752f-5a5c-40e8-e1fa-3aff67b29663"
      },
      "execution_count": 67,
      "outputs": [
        {
          "output_type": "stream",
          "name": "stdout",
          "text": [
            "Golden\n"
          ]
        }
      ]
    },
    {
      "cell_type": "code",
      "source": [
        "perro.idioma()"
      ],
      "metadata": {
        "colab": {
          "base_uri": "https://localhost:8080/"
        },
        "id": "TEgvVTUZk6NW",
        "outputId": "276ac604-b46b-412d-c3ec-7eb9c11a579b"
      },
      "execution_count": 68,
      "outputs": [
        {
          "output_type": "stream",
          "name": "stdout",
          "text": [
            "WUAF\n"
          ]
        }
      ]
    },
    {
      "cell_type": "code",
      "source": [
        "class Mio(): #clase madre\n",
        "  def __init__(self):\n",
        "    print(\"Creamos una clase madre\")\n",
        "\n",
        "  def nombre(self):\n",
        "    print(\"Soy Juan Pablo Sámano\")\n",
        "\n",
        "  def hobby(self):\n",
        "    print(\"Me encanta hacer deporte\")\n",
        "\n",
        "  def gustos(self):\n",
        "    print(\"Me gusta el padel\")"
      ],
      "metadata": {
        "id": "7CX74l8wmjXk"
      },
      "execution_count": 76,
      "outputs": []
    },
    {
      "cell_type": "code",
      "source": [
        "mio=Mio()"
      ],
      "metadata": {
        "colab": {
          "base_uri": "https://localhost:8080/"
        },
        "id": "H370lYfxnOka",
        "outputId": "80bfee1a-bcc5-4e66-9d9b-6a48a8f6347a"
      },
      "execution_count": 77,
      "outputs": [
        {
          "output_type": "stream",
          "name": "stdout",
          "text": [
            "Creamos una clase madre\n"
          ]
        }
      ]
    },
    {
      "cell_type": "code",
      "source": [
        "mio.nombre()"
      ],
      "metadata": {
        "colab": {
          "base_uri": "https://localhost:8080/"
        },
        "id": "v8LcxNadnY1z",
        "outputId": "6ea058a5-7da7-4766-c3d5-a7db0b52def7"
      },
      "execution_count": 71,
      "outputs": [
        {
          "output_type": "stream",
          "name": "stdout",
          "text": [
            "Soy Juan Pablo Sámano\n"
          ]
        }
      ]
    },
    {
      "cell_type": "code",
      "source": [
        "mio.hobby()"
      ],
      "metadata": {
        "colab": {
          "base_uri": "https://localhost:8080/"
        },
        "id": "i9C9gGaWndpi",
        "outputId": "8a1043bc-dcf6-40a1-dd97-62733ac252ce"
      },
      "execution_count": 72,
      "outputs": [
        {
          "output_type": "stream",
          "name": "stdout",
          "text": [
            "Me encanta hacer deporte\n"
          ]
        }
      ]
    },
    {
      "cell_type": "code",
      "source": [
        "mio.gustos()"
      ],
      "metadata": {
        "colab": {
          "base_uri": "https://localhost:8080/"
        },
        "id": "K2rWGfsloEtB",
        "outputId": "d2733982-c672-440e-fc69-8f89a4f4e601"
      },
      "execution_count": 78,
      "outputs": [
        {
          "output_type": "stream",
          "name": "stdout",
          "text": [
            "Me gusta el padel\n"
          ]
        }
      ]
    },
    {
      "cell_type": "code",
      "source": [
        "class Familia(Mio):\n",
        "\n",
        "  def __init__(self):\n",
        "    Mascota. __init__(self)\n",
        "    print(\"Creamos una clase heredada\")\n",
        "\n",
        "  def nombre(self):\n",
        "    print(\"Sonia,Ricardo.Maria Jose,Sofia\")\n",
        "\n",
        "  def mascota(self):\n",
        "    print(\"Nuestro perro se llama nala\")\n",
        "\n",
        "  def apodo(self):\n",
        "    print(\"Sambel\")"
      ],
      "metadata": {
        "id": "6XCALydrnim6"
      },
      "execution_count": 79,
      "outputs": []
    },
    {
      "cell_type": "code",
      "source": [
        "familia=Familia()"
      ],
      "metadata": {
        "colab": {
          "base_uri": "https://localhost:8080/"
        },
        "id": "z3YNgLBHoh4w",
        "outputId": "8b3a787e-7ff2-441c-80e7-88b3f6114ab3"
      },
      "execution_count": 80,
      "outputs": [
        {
          "output_type": "stream",
          "name": "stdout",
          "text": [
            "Creamos una clase madre\n",
            "Creamos una clase heredada\n"
          ]
        }
      ]
    },
    {
      "cell_type": "code",
      "source": [
        "familia.nombre()"
      ],
      "metadata": {
        "colab": {
          "base_uri": "https://localhost:8080/"
        },
        "id": "thY4wIkooqeH",
        "outputId": "7b14e504-15a4-4c5c-d0a0-5d58299b6431"
      },
      "execution_count": 81,
      "outputs": [
        {
          "output_type": "stream",
          "name": "stdout",
          "text": [
            "Sonia,Ricardo.Maria Jose,Sofia\n"
          ]
        }
      ]
    },
    {
      "cell_type": "code",
      "source": [
        "familia.mascota()"
      ],
      "metadata": {
        "colab": {
          "base_uri": "https://localhost:8080/"
        },
        "id": "3jucFsbNouAP",
        "outputId": "17a1562c-fe73-4904-b2f8-96af518e6716"
      },
      "execution_count": 82,
      "outputs": [
        {
          "output_type": "stream",
          "name": "stdout",
          "text": [
            "Nuestro perro se llama nala\n"
          ]
        }
      ]
    },
    {
      "cell_type": "code",
      "source": [
        "familia.apodo()"
      ],
      "metadata": {
        "colab": {
          "base_uri": "https://localhost:8080/"
        },
        "id": "U28IN5PaownX",
        "outputId": "27fa820d-68a6-4ea9-f7d7-d404ab4aafdf"
      },
      "execution_count": 83,
      "outputs": [
        {
          "output_type": "stream",
          "name": "stdout",
          "text": [
            "Sambel\n"
          ]
        }
      ]
    }
  ]
}