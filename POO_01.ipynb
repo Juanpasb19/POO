{
  "nbformat": 4,
  "nbformat_minor": 0,
  "metadata": {
    "colab": {
      "provenance": []
    },
    "kernelspec": {
      "name": "python3",
      "display_name": "Python 3"
    },
    "language_info": {
      "name": "python"
    }
  },
  "cells": [
    {
      "cell_type": "code",
      "execution_count": null,
      "metadata": {
        "id": "jMaGa6g1ied-"
      },
      "outputs": [],
      "source": []
    },
    {
      "cell_type": "markdown",
      "source": [
        "# Primeros objetos\n",
        "\n",
        "\n",
        "1.   Objetos.\n",
        "2.   Listas.\n",
        "3. Conjuntos"
      ],
      "metadata": {
        "id": "dzU_ELvZjVNZ"
      }
    },
    {
      "cell_type": "markdown",
      "source": [
        "En Python se pueden realizar operaciones sobre objetos. Ademas, es util para resolver un sistema de ecuaciones lineales.\n",
        "\n",
        "$$\n",
        "f(x,y)=\\begin{cases}\n",
        "x+2y=3\\\\\n",
        "2x+4y=6\n",
        "\\end{cases}\n",
        "$$"
      ],
      "metadata": {
        "id": "dCTMNs79pcTu"
      }
    },
    {
      "cell_type": "code",
      "source": [
        "print(\"Hola Mundo!\")"
      ],
      "metadata": {
        "id": "pZ8jute9rPQR"
      },
      "execution_count": null,
      "outputs": []
    },
    {
      "cell_type": "markdown",
      "source": [
        "## Primeros objetos\n",
        "\n",
        "\n",
        "*   Numero  enteros\n",
        "*   Numero  flotante\n",
        "\n"
      ],
      "metadata": {
        "id": "Q1i2OOL1rpQs"
      }
    },
    {
      "cell_type": "code",
      "source": [
        "# Crear Variables\n",
        "x=3\n",
        "y=5"
      ],
      "metadata": {
        "id": "dhhPHKCjtZZx"
      },
      "execution_count": 1,
      "outputs": []
    },
    {
      "cell_type": "code",
      "source": [
        "print(x+y)\n",
        "print(x-y)\n",
        "print(x*y)\n",
        "print(x**y)\n",
        "print(x/y)\n",
        "print(x//y)\n",
        "print(x%y)"
      ],
      "metadata": {
        "colab": {
          "base_uri": "https://localhost:8080/"
        },
        "id": "Rny3s7DBte2p",
        "outputId": "d963145a-fcbb-42f5-9b7d-6d481f1d5378"
      },
      "execution_count": 2,
      "outputs": [
        {
          "output_type": "stream",
          "name": "stdout",
          "text": [
            "8\n",
            "-2\n",
            "15\n",
            "243\n",
            "0.6\n",
            "0\n",
            "3\n"
          ]
        }
      ]
    },
    {
      "cell_type": "code",
      "source": [
        "type(x+y)"
      ],
      "metadata": {
        "colab": {
          "base_uri": "https://localhost:8080/"
        },
        "id": "GnImpgWgw2fw",
        "outputId": "f2272a89-e878-4306-97db-300778ea0a56"
      },
      "execution_count": 3,
      "outputs": [
        {
          "output_type": "execute_result",
          "data": {
            "text/plain": [
              "int"
            ]
          },
          "metadata": {},
          "execution_count": 3
        }
      ]
    },
    {
      "cell_type": "code",
      "source": [
        "type(x/y)\n"
      ],
      "metadata": {
        "colab": {
          "base_uri": "https://localhost:8080/"
        },
        "id": "wZ0dWQSaxFU5",
        "outputId": "ced3c2ef-17dd-479b-8017-3856bd1de2db"
      },
      "execution_count": 4,
      "outputs": [
        {
          "output_type": "execute_result",
          "data": {
            "text/plain": [
              "float"
            ]
          },
          "metadata": {},
          "execution_count": 4
        }
      ]
    }
  ]
}